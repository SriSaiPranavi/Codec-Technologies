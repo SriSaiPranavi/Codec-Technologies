{
  "nbformat": 4,
  "nbformat_minor": 0,
  "metadata": {
    "colab": {
      "provenance": [],
      "authorship_tag": "ABX9TyPf9sMhY91KMpmCWTnibePW",
      "include_colab_link": true
    },
    "kernelspec": {
      "name": "python3",
      "display_name": "Python 3"
    },
    "language_info": {
      "name": "python"
    }
  },
  "cells": [
    {
      "cell_type": "markdown",
      "metadata": {
        "id": "view-in-github",
        "colab_type": "text"
      },
      "source": [
        "<a href=\"https://colab.research.google.com/github/SriSaiPranavi/Codec-Technologies/blob/main/Sentiment_Analysis_on_Twitter_Data(Codec).ipynb\" target=\"_parent\"><img src=\"https://colab.research.google.com/assets/colab-badge.svg\" alt=\"Open In Colab\"/></a>"
      ]
    },
    {
      "cell_type": "code",
      "execution_count": null,
      "metadata": {
        "colab": {
          "base_uri": "https://localhost:8080/"
        },
        "id": "H-2XQigAKE6P",
        "outputId": "f835153c-3b9a-4698-aad3-523ae3d0dd97"
      },
      "outputs": [
        {
          "output_type": "stream",
          "name": "stderr",
          "text": [
            "[nltk_data] Downloading package vader_lexicon to /root/nltk_data...\n"
          ]
        },
        {
          "output_type": "stream",
          "name": "stdout",
          "text": [
            "Tweet: I love the new design of your website!\n",
            "Sentiment: Positive\n",
            "\n",
            "Tweet: I'm so sad that the event got cancelled.\n",
            "Sentiment: Negative\n",
            "\n",
            "Tweet: The movie was okay, not great but not bad either.\n",
            "Sentiment: Positive\n",
            "\n",
            "Tweet: Absolutely fantastic performance!\n",
            "Sentiment: Positive\n",
            "\n",
            "Tweet: I hate waiting in long lines.\n",
            "Sentiment: Negative\n",
            "\n"
          ]
        }
      ],
      "source": [
        "# Install NLTK\n",
        "!pip install -q nltk\n",
        "\n",
        "# Import and download VADER lexicon\n",
        "import nltk\n",
        "nltk.download('vader_lexicon')\n",
        "\n",
        "from nltk.sentiment import SentimentIntensityAnalyzer\n",
        "\n",
        "# Initialize the analyzer\n",
        "sia = SentimentIntensityAnalyzer()\n",
        "\n",
        "# Sample tweets to analyze\n",
        "tweets = [\n",
        "    \"I love the new design of your website!\",\n",
        "    \"I'm so sad that the event got cancelled.\",\n",
        "    \"The movie was okay, not great but not bad either.\",\n",
        "    \"Absolutely fantastic performance!\",\n",
        "    \"I hate waiting in long lines.\"\n",
        "]\n",
        "\n",
        "# Function to classify sentiment\n",
        "def classify_sentiment(text):\n",
        "    scores = sia.polarity_scores(text)\n",
        "    compound = scores['compound']\n",
        "    if compound >= 0.05:\n",
        "        return \"Positive\"\n",
        "    elif compound <= -0.05:\n",
        "        return \"Negative\"\n",
        "    else:\n",
        "        return \"Neutral\"\n",
        "\n",
        "# Print sentiment for each tweet\n",
        "for tweet in tweets:\n",
        "    print(f\"Tweet: {tweet}\\nSentiment: {classify_sentiment(tweet)}\\n\")\n"
      ]
    }
  ]
}